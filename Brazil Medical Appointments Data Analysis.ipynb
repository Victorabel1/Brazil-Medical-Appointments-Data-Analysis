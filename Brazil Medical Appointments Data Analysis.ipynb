{
 "cells": [
  {
   "cell_type": "markdown",
   "id": "97c1b8df",
   "metadata": {},
   "source": [
    "# Project : Brazil Medical Appointments Data Analysis\n",
    "\n",
    "\n",
    "\n",
    "Our focus is to look at a dataset containing information from 100k medical appointments in Brazil. The essence is to asses whether or not patients show up for their appointment. The dataset to be used for this study is obtained from Kaggle."
   ]
  },
  {
   "cell_type": "code",
   "execution_count": 1,
   "id": "58408b6f",
   "metadata": {},
   "outputs": [
    {
     "data": {
      "text/html": [
       "<div>\n",
       "<style scoped>\n",
       "    .dataframe tbody tr th:only-of-type {\n",
       "        vertical-align: middle;\n",
       "    }\n",
       "\n",
       "    .dataframe tbody tr th {\n",
       "        vertical-align: top;\n",
       "    }\n",
       "\n",
       "    .dataframe thead th {\n",
       "        text-align: right;\n",
       "    }\n",
       "</style>\n",
       "<table border=\"1\" class=\"dataframe\">\n",
       "  <thead>\n",
       "    <tr style=\"text-align: right;\">\n",
       "      <th></th>\n",
       "      <th>PatientId</th>\n",
       "      <th>AppointmentID</th>\n",
       "      <th>Gender</th>\n",
       "      <th>ScheduledDay</th>\n",
       "      <th>AppointmentDay</th>\n",
       "      <th>Age</th>\n",
       "      <th>Neighbourhood</th>\n",
       "      <th>Scholarship</th>\n",
       "      <th>Hipertension</th>\n",
       "      <th>Diabetes</th>\n",
       "      <th>Alcoholism</th>\n",
       "      <th>Handcap</th>\n",
       "      <th>SMS_received</th>\n",
       "      <th>No-show</th>\n",
       "    </tr>\n",
       "  </thead>\n",
       "  <tbody>\n",
       "    <tr>\n",
       "      <th>0</th>\n",
       "      <td>2.987250e+13</td>\n",
       "      <td>5642903</td>\n",
       "      <td>F</td>\n",
       "      <td>2016-04-29T18:38:08Z</td>\n",
       "      <td>2016-04-29T00:00:00Z</td>\n",
       "      <td>62</td>\n",
       "      <td>JARDIM DA PENHA</td>\n",
       "      <td>0</td>\n",
       "      <td>1</td>\n",
       "      <td>0</td>\n",
       "      <td>0</td>\n",
       "      <td>0</td>\n",
       "      <td>0</td>\n",
       "      <td>No</td>\n",
       "    </tr>\n",
       "    <tr>\n",
       "      <th>1</th>\n",
       "      <td>5.589978e+14</td>\n",
       "      <td>5642503</td>\n",
       "      <td>M</td>\n",
       "      <td>2016-04-29T16:08:27Z</td>\n",
       "      <td>2016-04-29T00:00:00Z</td>\n",
       "      <td>56</td>\n",
       "      <td>JARDIM DA PENHA</td>\n",
       "      <td>0</td>\n",
       "      <td>0</td>\n",
       "      <td>0</td>\n",
       "      <td>0</td>\n",
       "      <td>0</td>\n",
       "      <td>0</td>\n",
       "      <td>No</td>\n",
       "    </tr>\n",
       "    <tr>\n",
       "      <th>2</th>\n",
       "      <td>4.262962e+12</td>\n",
       "      <td>5642549</td>\n",
       "      <td>F</td>\n",
       "      <td>2016-04-29T16:19:04Z</td>\n",
       "      <td>2016-04-29T00:00:00Z</td>\n",
       "      <td>62</td>\n",
       "      <td>MATA DA PRAIA</td>\n",
       "      <td>0</td>\n",
       "      <td>0</td>\n",
       "      <td>0</td>\n",
       "      <td>0</td>\n",
       "      <td>0</td>\n",
       "      <td>0</td>\n",
       "      <td>No</td>\n",
       "    </tr>\n",
       "    <tr>\n",
       "      <th>3</th>\n",
       "      <td>8.679512e+11</td>\n",
       "      <td>5642828</td>\n",
       "      <td>F</td>\n",
       "      <td>2016-04-29T17:29:31Z</td>\n",
       "      <td>2016-04-29T00:00:00Z</td>\n",
       "      <td>8</td>\n",
       "      <td>PONTAL DE CAMBURI</td>\n",
       "      <td>0</td>\n",
       "      <td>0</td>\n",
       "      <td>0</td>\n",
       "      <td>0</td>\n",
       "      <td>0</td>\n",
       "      <td>0</td>\n",
       "      <td>No</td>\n",
       "    </tr>\n",
       "    <tr>\n",
       "      <th>4</th>\n",
       "      <td>8.841186e+12</td>\n",
       "      <td>5642494</td>\n",
       "      <td>F</td>\n",
       "      <td>2016-04-29T16:07:23Z</td>\n",
       "      <td>2016-04-29T00:00:00Z</td>\n",
       "      <td>56</td>\n",
       "      <td>JARDIM DA PENHA</td>\n",
       "      <td>0</td>\n",
       "      <td>1</td>\n",
       "      <td>1</td>\n",
       "      <td>0</td>\n",
       "      <td>0</td>\n",
       "      <td>0</td>\n",
       "      <td>No</td>\n",
       "    </tr>\n",
       "  </tbody>\n",
       "</table>\n",
       "</div>"
      ],
      "text/plain": [
       "      PatientId  AppointmentID Gender          ScheduledDay  \\\n",
       "0  2.987250e+13        5642903      F  2016-04-29T18:38:08Z   \n",
       "1  5.589978e+14        5642503      M  2016-04-29T16:08:27Z   \n",
       "2  4.262962e+12        5642549      F  2016-04-29T16:19:04Z   \n",
       "3  8.679512e+11        5642828      F  2016-04-29T17:29:31Z   \n",
       "4  8.841186e+12        5642494      F  2016-04-29T16:07:23Z   \n",
       "\n",
       "         AppointmentDay  Age      Neighbourhood  Scholarship  Hipertension  \\\n",
       "0  2016-04-29T00:00:00Z   62    JARDIM DA PENHA            0             1   \n",
       "1  2016-04-29T00:00:00Z   56    JARDIM DA PENHA            0             0   \n",
       "2  2016-04-29T00:00:00Z   62      MATA DA PRAIA            0             0   \n",
       "3  2016-04-29T00:00:00Z    8  PONTAL DE CAMBURI            0             0   \n",
       "4  2016-04-29T00:00:00Z   56    JARDIM DA PENHA            0             1   \n",
       "\n",
       "   Diabetes  Alcoholism  Handcap  SMS_received No-show  \n",
       "0         0           0        0             0      No  \n",
       "1         0           0        0             0      No  \n",
       "2         0           0        0             0      No  \n",
       "3         0           0        0             0      No  \n",
       "4         1           0        0             0      No  "
      ]
     },
     "execution_count": 1,
     "metadata": {},
     "output_type": "execute_result"
    }
   ],
   "source": [
    "import numpy as np\n",
    "import pandas as pd\n",
    "import matplotlib.pyplot as plt\n",
    "import seaborn as sns\n",
    "%matplotlib inline\n",
    "df = pd.read_csv('no_show_appointments.csv')\n",
    "df.head()"
   ]
  },
  {
   "cell_type": "markdown",
   "id": "1726e5ce",
   "metadata": {},
   "source": [
    "# Data Wrangling"
   ]
  },
  {
   "cell_type": "code",
   "execution_count": 2,
   "id": "ae8fecf5",
   "metadata": {
    "scrolled": true
   },
   "outputs": [
    {
     "name": "stdout",
     "output_type": "stream",
     "text": [
      "<class 'pandas.core.frame.DataFrame'>\n",
      "RangeIndex: 110527 entries, 0 to 110526\n",
      "Data columns (total 14 columns):\n",
      " #   Column          Non-Null Count   Dtype  \n",
      "---  ------          --------------   -----  \n",
      " 0   PatientId       110527 non-null  float64\n",
      " 1   AppointmentID   110527 non-null  int64  \n",
      " 2   Gender          110527 non-null  object \n",
      " 3   ScheduledDay    110527 non-null  object \n",
      " 4   AppointmentDay  110527 non-null  object \n",
      " 5   Age             110527 non-null  int64  \n",
      " 6   Neighbourhood   110527 non-null  object \n",
      " 7   Scholarship     110527 non-null  int64  \n",
      " 8   Hipertension    110527 non-null  int64  \n",
      " 9   Diabetes        110527 non-null  int64  \n",
      " 10  Alcoholism      110527 non-null  int64  \n",
      " 11  Handcap         110527 non-null  int64  \n",
      " 12  SMS_received    110527 non-null  int64  \n",
      " 13  No-show         110527 non-null  object \n",
      "dtypes: float64(1), int64(8), object(5)\n",
      "memory usage: 11.8+ MB\n"
     ]
    }
   ],
   "source": [
    "# To obtain some information about the dataframe that will help my analysis \n",
    "df.info()"
   ]
  },
  {
   "cell_type": "markdown",
   "id": "e31e5e44",
   "metadata": {},
   "source": [
    "From the information we have obtained above, there are a couple of problems with the dataset we need to look into which include the following.\n",
    "\n",
    "\n",
    "-Appointment Day does not have the apropriate datatype\n",
    "-Schedule Day also lacks apropriate datatype\n",
    "-Typo in Hipertension , Handcap. We will need to correct this.\n",
    "-We need to change the datatype for 'gender' and 'no-show' to categorical datatypes seperating between F & M and No & Yes respectively.\n",
    "-There is also need to change the datatype for 'Scholarship' , 'Hipertension' , 'Diabetes' , 'Alcoholism' , 'Handcap' , 'SMS_received' has impropriates datatypes because they have just '0' & '1'."
   ]
  },
  {
   "cell_type": "code",
   "execution_count": 3,
   "id": "4b775cd4",
   "metadata": {
    "scrolled": true
   },
   "outputs": [
    {
     "data": {
      "text/html": [
       "<div>\n",
       "<style scoped>\n",
       "    .dataframe tbody tr th:only-of-type {\n",
       "        vertical-align: middle;\n",
       "    }\n",
       "\n",
       "    .dataframe tbody tr th {\n",
       "        vertical-align: top;\n",
       "    }\n",
       "\n",
       "    .dataframe thead th {\n",
       "        text-align: right;\n",
       "    }\n",
       "</style>\n",
       "<table border=\"1\" class=\"dataframe\">\n",
       "  <thead>\n",
       "    <tr style=\"text-align: right;\">\n",
       "      <th></th>\n",
       "      <th>PatientId</th>\n",
       "      <th>AppointmentID</th>\n",
       "      <th>Age</th>\n",
       "      <th>Scholarship</th>\n",
       "      <th>Hipertension</th>\n",
       "      <th>Diabetes</th>\n",
       "      <th>Alcoholism</th>\n",
       "      <th>Handcap</th>\n",
       "      <th>SMS_received</th>\n",
       "    </tr>\n",
       "  </thead>\n",
       "  <tbody>\n",
       "    <tr>\n",
       "      <th>count</th>\n",
       "      <td>1.105270e+05</td>\n",
       "      <td>1.105270e+05</td>\n",
       "      <td>110527.000000</td>\n",
       "      <td>110527.000000</td>\n",
       "      <td>110527.000000</td>\n",
       "      <td>110527.000000</td>\n",
       "      <td>110527.000000</td>\n",
       "      <td>110527.000000</td>\n",
       "      <td>110527.000000</td>\n",
       "    </tr>\n",
       "    <tr>\n",
       "      <th>mean</th>\n",
       "      <td>1.474963e+14</td>\n",
       "      <td>5.675305e+06</td>\n",
       "      <td>37.088874</td>\n",
       "      <td>0.098266</td>\n",
       "      <td>0.197246</td>\n",
       "      <td>0.071865</td>\n",
       "      <td>0.030400</td>\n",
       "      <td>0.022248</td>\n",
       "      <td>0.321026</td>\n",
       "    </tr>\n",
       "    <tr>\n",
       "      <th>std</th>\n",
       "      <td>2.560949e+14</td>\n",
       "      <td>7.129575e+04</td>\n",
       "      <td>23.110205</td>\n",
       "      <td>0.297675</td>\n",
       "      <td>0.397921</td>\n",
       "      <td>0.258265</td>\n",
       "      <td>0.171686</td>\n",
       "      <td>0.161543</td>\n",
       "      <td>0.466873</td>\n",
       "    </tr>\n",
       "    <tr>\n",
       "      <th>min</th>\n",
       "      <td>3.921784e+04</td>\n",
       "      <td>5.030230e+06</td>\n",
       "      <td>-1.000000</td>\n",
       "      <td>0.000000</td>\n",
       "      <td>0.000000</td>\n",
       "      <td>0.000000</td>\n",
       "      <td>0.000000</td>\n",
       "      <td>0.000000</td>\n",
       "      <td>0.000000</td>\n",
       "    </tr>\n",
       "    <tr>\n",
       "      <th>25%</th>\n",
       "      <td>4.172614e+12</td>\n",
       "      <td>5.640286e+06</td>\n",
       "      <td>18.000000</td>\n",
       "      <td>0.000000</td>\n",
       "      <td>0.000000</td>\n",
       "      <td>0.000000</td>\n",
       "      <td>0.000000</td>\n",
       "      <td>0.000000</td>\n",
       "      <td>0.000000</td>\n",
       "    </tr>\n",
       "    <tr>\n",
       "      <th>50%</th>\n",
       "      <td>3.173184e+13</td>\n",
       "      <td>5.680573e+06</td>\n",
       "      <td>37.000000</td>\n",
       "      <td>0.000000</td>\n",
       "      <td>0.000000</td>\n",
       "      <td>0.000000</td>\n",
       "      <td>0.000000</td>\n",
       "      <td>0.000000</td>\n",
       "      <td>0.000000</td>\n",
       "    </tr>\n",
       "    <tr>\n",
       "      <th>75%</th>\n",
       "      <td>9.439172e+13</td>\n",
       "      <td>5.725524e+06</td>\n",
       "      <td>55.000000</td>\n",
       "      <td>0.000000</td>\n",
       "      <td>0.000000</td>\n",
       "      <td>0.000000</td>\n",
       "      <td>0.000000</td>\n",
       "      <td>0.000000</td>\n",
       "      <td>1.000000</td>\n",
       "    </tr>\n",
       "    <tr>\n",
       "      <th>max</th>\n",
       "      <td>9.999816e+14</td>\n",
       "      <td>5.790484e+06</td>\n",
       "      <td>115.000000</td>\n",
       "      <td>1.000000</td>\n",
       "      <td>1.000000</td>\n",
       "      <td>1.000000</td>\n",
       "      <td>1.000000</td>\n",
       "      <td>4.000000</td>\n",
       "      <td>1.000000</td>\n",
       "    </tr>\n",
       "  </tbody>\n",
       "</table>\n",
       "</div>"
      ],
      "text/plain": [
       "          PatientId  AppointmentID            Age    Scholarship  \\\n",
       "count  1.105270e+05   1.105270e+05  110527.000000  110527.000000   \n",
       "mean   1.474963e+14   5.675305e+06      37.088874       0.098266   \n",
       "std    2.560949e+14   7.129575e+04      23.110205       0.297675   \n",
       "min    3.921784e+04   5.030230e+06      -1.000000       0.000000   \n",
       "25%    4.172614e+12   5.640286e+06      18.000000       0.000000   \n",
       "50%    3.173184e+13   5.680573e+06      37.000000       0.000000   \n",
       "75%    9.439172e+13   5.725524e+06      55.000000       0.000000   \n",
       "max    9.999816e+14   5.790484e+06     115.000000       1.000000   \n",
       "\n",
       "        Hipertension       Diabetes     Alcoholism        Handcap  \\\n",
       "count  110527.000000  110527.000000  110527.000000  110527.000000   \n",
       "mean        0.197246       0.071865       0.030400       0.022248   \n",
       "std         0.397921       0.258265       0.171686       0.161543   \n",
       "min         0.000000       0.000000       0.000000       0.000000   \n",
       "25%         0.000000       0.000000       0.000000       0.000000   \n",
       "50%         0.000000       0.000000       0.000000       0.000000   \n",
       "75%         0.000000       0.000000       0.000000       0.000000   \n",
       "max         1.000000       1.000000       1.000000       4.000000   \n",
       "\n",
       "        SMS_received  \n",
       "count  110527.000000  \n",
       "mean        0.321026  \n",
       "std         0.466873  \n",
       "min         0.000000  \n",
       "25%         0.000000  \n",
       "50%         0.000000  \n",
       "75%         1.000000  \n",
       "max         1.000000  "
      ]
     },
     "execution_count": 3,
     "metadata": {},
     "output_type": "execute_result"
    }
   ],
   "source": [
    "df.describe()"
   ]
  },
  {
   "cell_type": "markdown",
   "id": "237c43b1",
   "metadata": {},
   "source": [
    "From the description obtained above, elderly patients of age 55 and above make up 75% of the patients eventhough the average age of 37."
   ]
  },
  {
   "cell_type": "code",
   "execution_count": 4,
   "id": "16029cd9",
   "metadata": {},
   "outputs": [
    {
     "data": {
      "text/plain": [
       "0"
      ]
     },
     "execution_count": 4,
     "metadata": {},
     "output_type": "execute_result"
    }
   ],
   "source": [
    "# We will also like to check for duplication in the dataset\n",
    "sum(df.duplicated())"
   ]
  },
  {
   "cell_type": "markdown",
   "id": "d744bb00",
   "metadata": {},
   "source": [
    "An output of Zero (0) shows us that there is no duplicate in our dataset"
   ]
  },
  {
   "cell_type": "code",
   "execution_count": 5,
   "id": "f8e38ade",
   "metadata": {},
   "outputs": [],
   "source": [
    "# The name for the appointment column ends with 'ID', but for the patient column it ends with 'Id'.\n",
    "df = df.rename(columns = {'PatientId': 'PatientID'})"
   ]
  },
  {
   "cell_type": "code",
   "execution_count": 6,
   "id": "99f6c28a",
   "metadata": {},
   "outputs": [],
   "source": [
    "# Let us also rename 'No-show' to 'No_show'. We are substituting the 'dash' with an 'underscore'\n",
    "df = df.rename(columns = {'No-show' : 'No_show'})"
   ]
  },
  {
   "cell_type": "code",
   "execution_count": 7,
   "id": "4f9c5ff9",
   "metadata": {},
   "outputs": [],
   "source": [
    "# Since we are considering standard english spellings, we will rename the spelling error \"Hipertension\" to 'Hypertension'\n",
    "df = df.rename(columns = {'Hipertension' : 'Hypertension'})"
   ]
  },
  {
   "cell_type": "code",
   "execution_count": 8,
   "id": "442fb9f4",
   "metadata": {},
   "outputs": [],
   "source": [
    "# We will also rename the spelling error 'Handcap' to 'Handicap'\n",
    "df = df.rename(columns = {'Handcap' : 'Handicap'})"
   ]
  },
  {
   "cell_type": "code",
   "execution_count": 9,
   "id": "dba06581",
   "metadata": {},
   "outputs": [
    {
     "name": "stdout",
     "output_type": "stream",
     "text": [
      "<class 'pandas.core.frame.DataFrame'>\n",
      "RangeIndex: 110527 entries, 0 to 110526\n",
      "Data columns (total 14 columns):\n",
      " #   Column          Non-Null Count   Dtype  \n",
      "---  ------          --------------   -----  \n",
      " 0   PatientID       110527 non-null  float64\n",
      " 1   AppointmentID   110527 non-null  int64  \n",
      " 2   Gender          110527 non-null  object \n",
      " 3   ScheduledDay    110527 non-null  object \n",
      " 4   AppointmentDay  110527 non-null  object \n",
      " 5   Age             110527 non-null  int64  \n",
      " 6   Neighbourhood   110527 non-null  object \n",
      " 7   Scholarship     110527 non-null  int64  \n",
      " 8   Hypertension    110527 non-null  int64  \n",
      " 9   Diabetes        110527 non-null  int64  \n",
      " 10  Alcoholism      110527 non-null  int64  \n",
      " 11  Handicap        110527 non-null  int64  \n",
      " 12  SMS_received    110527 non-null  int64  \n",
      " 13  No_show         110527 non-null  object \n",
      "dtypes: float64(1), int64(8), object(5)\n",
      "memory usage: 11.8+ MB\n"
     ]
    }
   ],
   "source": [
    "#To confirm renames done\n",
    "df.info()"
   ]
  },
  {
   "cell_type": "code",
   "execution_count": 10,
   "id": "7b43b745",
   "metadata": {},
   "outputs": [],
   "source": [
    "# Let's convert 'Scholarship' Datatypes from Integer datatypes to Boolean datatypes\n",
    "df['PatientID'] = df['PatientID'].astype('int64')"
   ]
  },
  {
   "cell_type": "code",
   "execution_count": 11,
   "id": "5ec9c636",
   "metadata": {},
   "outputs": [],
   "source": [
    "# Let's convert 'ScheduledDay' datas from String Datatypes to Datetime\n",
    "df['ScheduledDay'] = pd.to_datetime(df['ScheduledDay'])"
   ]
  },
  {
   "cell_type": "code",
   "execution_count": 12,
   "id": "cd4fc60b",
   "metadata": {},
   "outputs": [],
   "source": [
    "# Let's convert 'AppointmentDay' datas from String Datatype to Datetime datatype\n",
    "df['AppointmentDay'] = pd.to_datetime(df['AppointmentDay'])"
   ]
  },
  {
   "cell_type": "code",
   "execution_count": 13,
   "id": "ef30dc16",
   "metadata": {},
   "outputs": [],
   "source": [
    "# Let's convert the 'Gender' datatype from String to Categorical since it has only 'F' & 'M'\n",
    "df['Gender'] = df['Gender'].astype('category')"
   ]
  },
  {
   "cell_type": "code",
   "execution_count": 14,
   "id": "d52ab40e",
   "metadata": {},
   "outputs": [
    {
     "data": {
      "text/plain": [
       "['F', 'M']\n",
       "Categories (2, object): ['F', 'M']"
      ]
     },
     "execution_count": 14,
     "metadata": {},
     "output_type": "execute_result"
    }
   ],
   "source": [
    "#Let's confirm the unique values for gender\n",
    "df.Gender.unique()"
   ]
  },
  {
   "cell_type": "code",
   "execution_count": 15,
   "id": "b5ae9967",
   "metadata": {},
   "outputs": [],
   "source": [
    "# Let's convert 'Scholarship' Datatypes from Integer datatypes to Boolean datatypes\n",
    "df['Scholarship'] = df['Scholarship'].astype('bool')"
   ]
  },
  {
   "cell_type": "code",
   "execution_count": 16,
   "id": "34ba4d17",
   "metadata": {},
   "outputs": [
    {
     "data": {
      "text/plain": [
       "dtype('bool')"
      ]
     },
     "execution_count": 16,
     "metadata": {},
     "output_type": "execute_result"
    }
   ],
   "source": [
    "#We can confirm the conversion by\n",
    "df['Scholarship'].dtype"
   ]
  },
  {
   "cell_type": "code",
   "execution_count": 17,
   "id": "8f22cf57",
   "metadata": {},
   "outputs": [],
   "source": [
    "# Let's onvert 'Hypertension' Datatypes from Integer to Boolean \n",
    "df['Hypertension'] = df['Hypertension'].astype('bool')"
   ]
  },
  {
   "cell_type": "code",
   "execution_count": 18,
   "id": "692e9f7d",
   "metadata": {},
   "outputs": [],
   "source": [
    "# Let's convert 'Diabetes' Datatypes from Integer to Boolean\n",
    "df['Diabetes'] = df['Diabetes'].astype('bool')"
   ]
  },
  {
   "cell_type": "code",
   "execution_count": 19,
   "id": "76988711",
   "metadata": {},
   "outputs": [],
   "source": [
    "# Let's convert 'Alcoholism' Datatypes from Integer  to Boolean\n",
    "df['Alcoholism'] = df['Alcoholism'].astype('bool')"
   ]
  },
  {
   "cell_type": "code",
   "execution_count": 20,
   "id": "80780c72",
   "metadata": {},
   "outputs": [],
   "source": [
    "# Let's convert 'Handicap' Datatypes from Integer to Boolean\n",
    "df['Handicap'] = df['Handicap'].astype('bool')"
   ]
  },
  {
   "cell_type": "code",
   "execution_count": 21,
   "id": "a674fc2c",
   "metadata": {},
   "outputs": [],
   "source": [
    "# Let's convert 'SMS' Datatypes from Integer to Boolean\n",
    "df['SMS_received'] = df['SMS_received'].astype('bool')"
   ]
  },
  {
   "cell_type": "code",
   "execution_count": 22,
   "id": "1ad405f7",
   "metadata": {},
   "outputs": [],
   "source": [
    "# Let's convert 'SMS' Datatypes from Integer to Boolean\n",
    "df['No_show'] = df['No_show'].astype('category')"
   ]
  },
  {
   "cell_type": "markdown",
   "id": "cd6413d8",
   "metadata": {},
   "source": [
    "Datatypes\n",
    "\n",
    "let us check further to see if there are any incorrect data types or missing values"
   ]
  },
  {
   "cell_type": "code",
   "execution_count": 23,
   "id": "b6c89780",
   "metadata": {
    "scrolled": true
   },
   "outputs": [
    {
     "name": "stdout",
     "output_type": "stream",
     "text": [
      "<class 'pandas.core.frame.DataFrame'>\n",
      "RangeIndex: 110527 entries, 0 to 110526\n",
      "Data columns (total 14 columns):\n",
      " #   Column          Non-Null Count   Dtype              \n",
      "---  ------          --------------   -----              \n",
      " 0   PatientID       110527 non-null  int64              \n",
      " 1   AppointmentID   110527 non-null  int64              \n",
      " 2   Gender          110527 non-null  category           \n",
      " 3   ScheduledDay    110527 non-null  datetime64[ns, UTC]\n",
      " 4   AppointmentDay  110527 non-null  datetime64[ns, UTC]\n",
      " 5   Age             110527 non-null  int64              \n",
      " 6   Neighbourhood   110527 non-null  object             \n",
      " 7   Scholarship     110527 non-null  bool               \n",
      " 8   Hypertension    110527 non-null  bool               \n",
      " 9   Diabetes        110527 non-null  bool               \n",
      " 10  Alcoholism      110527 non-null  bool               \n",
      " 11  Handicap        110527 non-null  bool               \n",
      " 12  SMS_received    110527 non-null  bool               \n",
      " 13  No_show         110527 non-null  category           \n",
      "dtypes: bool(6), category(2), datetime64[ns, UTC](2), int64(3), object(1)\n",
      "memory usage: 5.9+ MB\n"
     ]
    }
   ],
   "source": [
    "#To confirm conversion of datatypes\n",
    "df.info()"
   ]
  },
  {
   "cell_type": "markdown",
   "id": "8f7e0b5b",
   "metadata": {},
   "source": [
    "Every column has the same number of values as there are rows so there is no missing values. "
   ]
  },
  {
   "cell_type": "code",
   "execution_count": 24,
   "id": "0058fbd3",
   "metadata": {},
   "outputs": [
    {
     "data": {
      "text/html": [
       "<div>\n",
       "<style scoped>\n",
       "    .dataframe tbody tr th:only-of-type {\n",
       "        vertical-align: middle;\n",
       "    }\n",
       "\n",
       "    .dataframe tbody tr th {\n",
       "        vertical-align: top;\n",
       "    }\n",
       "\n",
       "    .dataframe thead th {\n",
       "        text-align: right;\n",
       "    }\n",
       "</style>\n",
       "<table border=\"1\" class=\"dataframe\">\n",
       "  <thead>\n",
       "    <tr style=\"text-align: right;\">\n",
       "      <th></th>\n",
       "      <th>PatientID</th>\n",
       "      <th>AppointmentID</th>\n",
       "      <th>Gender</th>\n",
       "      <th>ScheduledDay</th>\n",
       "      <th>AppointmentDay</th>\n",
       "      <th>Age</th>\n",
       "      <th>Neighbourhood</th>\n",
       "      <th>Scholarship</th>\n",
       "      <th>Hypertension</th>\n",
       "      <th>Diabetes</th>\n",
       "      <th>Alcoholism</th>\n",
       "      <th>Handicap</th>\n",
       "      <th>SMS_received</th>\n",
       "      <th>No_show</th>\n",
       "    </tr>\n",
       "  </thead>\n",
       "  <tbody>\n",
       "    <tr>\n",
       "      <th>0</th>\n",
       "      <td>29872499824296</td>\n",
       "      <td>5642903</td>\n",
       "      <td>F</td>\n",
       "      <td>2016-04-29 18:38:08+00:00</td>\n",
       "      <td>2016-04-29 00:00:00+00:00</td>\n",
       "      <td>62</td>\n",
       "      <td>JARDIM DA PENHA</td>\n",
       "      <td>False</td>\n",
       "      <td>True</td>\n",
       "      <td>False</td>\n",
       "      <td>False</td>\n",
       "      <td>False</td>\n",
       "      <td>False</td>\n",
       "      <td>No</td>\n",
       "    </tr>\n",
       "    <tr>\n",
       "      <th>1</th>\n",
       "      <td>558997776694438</td>\n",
       "      <td>5642503</td>\n",
       "      <td>M</td>\n",
       "      <td>2016-04-29 16:08:27+00:00</td>\n",
       "      <td>2016-04-29 00:00:00+00:00</td>\n",
       "      <td>56</td>\n",
       "      <td>JARDIM DA PENHA</td>\n",
       "      <td>False</td>\n",
       "      <td>False</td>\n",
       "      <td>False</td>\n",
       "      <td>False</td>\n",
       "      <td>False</td>\n",
       "      <td>False</td>\n",
       "      <td>No</td>\n",
       "    </tr>\n",
       "    <tr>\n",
       "      <th>2</th>\n",
       "      <td>4262962299951</td>\n",
       "      <td>5642549</td>\n",
       "      <td>F</td>\n",
       "      <td>2016-04-29 16:19:04+00:00</td>\n",
       "      <td>2016-04-29 00:00:00+00:00</td>\n",
       "      <td>62</td>\n",
       "      <td>MATA DA PRAIA</td>\n",
       "      <td>False</td>\n",
       "      <td>False</td>\n",
       "      <td>False</td>\n",
       "      <td>False</td>\n",
       "      <td>False</td>\n",
       "      <td>False</td>\n",
       "      <td>No</td>\n",
       "    </tr>\n",
       "    <tr>\n",
       "      <th>3</th>\n",
       "      <td>867951213174</td>\n",
       "      <td>5642828</td>\n",
       "      <td>F</td>\n",
       "      <td>2016-04-29 17:29:31+00:00</td>\n",
       "      <td>2016-04-29 00:00:00+00:00</td>\n",
       "      <td>8</td>\n",
       "      <td>PONTAL DE CAMBURI</td>\n",
       "      <td>False</td>\n",
       "      <td>False</td>\n",
       "      <td>False</td>\n",
       "      <td>False</td>\n",
       "      <td>False</td>\n",
       "      <td>False</td>\n",
       "      <td>No</td>\n",
       "    </tr>\n",
       "    <tr>\n",
       "      <th>4</th>\n",
       "      <td>8841186448183</td>\n",
       "      <td>5642494</td>\n",
       "      <td>F</td>\n",
       "      <td>2016-04-29 16:07:23+00:00</td>\n",
       "      <td>2016-04-29 00:00:00+00:00</td>\n",
       "      <td>56</td>\n",
       "      <td>JARDIM DA PENHA</td>\n",
       "      <td>False</td>\n",
       "      <td>True</td>\n",
       "      <td>True</td>\n",
       "      <td>False</td>\n",
       "      <td>False</td>\n",
       "      <td>False</td>\n",
       "      <td>No</td>\n",
       "    </tr>\n",
       "  </tbody>\n",
       "</table>\n",
       "</div>"
      ],
      "text/plain": [
       "         PatientID  AppointmentID Gender              ScheduledDay  \\\n",
       "0   29872499824296        5642903      F 2016-04-29 18:38:08+00:00   \n",
       "1  558997776694438        5642503      M 2016-04-29 16:08:27+00:00   \n",
       "2    4262962299951        5642549      F 2016-04-29 16:19:04+00:00   \n",
       "3     867951213174        5642828      F 2016-04-29 17:29:31+00:00   \n",
       "4    8841186448183        5642494      F 2016-04-29 16:07:23+00:00   \n",
       "\n",
       "             AppointmentDay  Age      Neighbourhood  Scholarship  \\\n",
       "0 2016-04-29 00:00:00+00:00   62    JARDIM DA PENHA        False   \n",
       "1 2016-04-29 00:00:00+00:00   56    JARDIM DA PENHA        False   \n",
       "2 2016-04-29 00:00:00+00:00   62      MATA DA PRAIA        False   \n",
       "3 2016-04-29 00:00:00+00:00    8  PONTAL DE CAMBURI        False   \n",
       "4 2016-04-29 00:00:00+00:00   56    JARDIM DA PENHA        False   \n",
       "\n",
       "   Hypertension  Diabetes  Alcoholism  Handicap  SMS_received No_show  \n",
       "0          True     False       False     False         False      No  \n",
       "1         False     False       False     False         False      No  \n",
       "2         False     False       False     False         False      No  \n",
       "3         False     False       False     False         False      No  \n",
       "4          True      True       False     False         False      No  "
      ]
     },
     "execution_count": 24,
     "metadata": {},
     "output_type": "execute_result"
    }
   ],
   "source": [
    "df.head()"
   ]
  },
  {
   "cell_type": "markdown",
   "id": "e529cd1f",
   "metadata": {},
   "source": [
    "So, now we have our headings with the appropriate spellings and also having the right datatype. We will then proceed to explore our data and make meaning out of it."
   ]
  },
  {
   "cell_type": "markdown",
   "id": "15e84a2b",
   "metadata": {},
   "source": [
    "# EXPLORATORY DATA ANALYSIS\n",
    "This is where we are going to explore the dataset. \n",
    "We have dependent variable and independent variable to look at.\n",
    "The independent variables are Age, SMS_received and Scholarship and our dependent variable is No_show i.e patients who did not show up for the appointment."
   ]
  },
  {
   "cell_type": "markdown",
   "id": "c702e36e",
   "metadata": {},
   "source": [
    "# Reseach Question 1 : How does the age distribution relate to medical appointments scheduled?"
   ]
  },
  {
   "cell_type": "code",
   "execution_count": 25,
   "id": "b9204ef1",
   "metadata": {},
   "outputs": [
    {
     "data": {
      "image/png": "[encoded data removed]",
      "text/plain": [
       "<Figure size 432x288 with 1 Axes>"
      ]
     },
     "metadata": {
      "needs_background": "light"
     },
     "output_type": "display_data"
    }
   ],
   "source": [
    "#We will plot a histogran to show the distribution of the patients by their ages\n",
    "\n",
    "df.Age.hist(bins=40);\n",
    "\n",
    "plt.xlabel('Age')\n",
    "plt.ylabel('Number of Patients')\n",
    "plt.title('Distribution of Age in Patient Population');"
   ]
  },
  {
   "cell_type": "markdown",
   "id": "5c412a69",
   "metadata": {},
   "source": [
    "From the chat above, the vast majority of patients are <=60 years old.\n",
    "We will now divide our patient population into groups that will ease our analyss: Young (lesser than 30), middle aged (greater than or equals to 30 less tha 60) and old (60 and above). \n",
    "With this, we will find out if there are differences in the rate at which the variuos groups miss appointments."
   ]
  },
  {
   "cell_type": "code",
   "execution_count": 26,
   "id": "7953437b",
   "metadata": {
    "scrolled": true
   },
   "outputs": [],
   "source": [
    "#Let us now organize the ages into 3 categories of young, middle_age and old\n",
    "\n",
    "young = df.query('Age < 30')\n",
    "middle = df.query('Age >= 30 & Age < 60')\n",
    "old = df.query('Age >= 60')"
   ]
  },
  {
   "cell_type": "code",
   "execution_count": 27,
   "id": "cd42a711",
   "metadata": {},
   "outputs": [
    {
     "data": {
      "image/png": "[encoded data removed]",
      "text/plain": [
       "<Figure size 360x360 with 1 Axes>"
      ]
     },
     "metadata": {},
     "output_type": "display_data"
    }
   ],
   "source": [
    "#Let us now organize the ages into 3 categories of young, middle age and old\n",
    "\n",
    "def Pie_plot(arg1, arg2):\n",
    "    arg1['No_show'].value_counts().plot(kind='pie', autopct='%1.1f%%', figsize=[5,5],\n",
    "                                            title=arg2);\n",
    "Pie_plot(young, 'Missed Appointments by Young Patients')"
   ]
  },
  {
   "cell_type": "markdown",
   "id": "1c1fd024",
   "metadata": {},
   "source": [
    "From the pie chat above, we can observe that 22.9% of oung patients have missed their medical appointments where 77.1% were able to make it for the appoinment."
   ]
  },
  {
   "cell_type": "code",
   "execution_count": 28,
   "id": "3af60559",
   "metadata": {
    "scrolled": true
   },
   "outputs": [
    {
     "data": {
      "image/png": "[encoded data removed]",
      "text/plain": [
       "<Figure size 360x360 with 1 Axes>"
      ]
     },
     "metadata": {},
     "output_type": "display_data"
    }
   ],
   "source": [
    "Pie_plot(middle, 'Missed Appointments by Middle-Aged Patients')"
   ]
  },
  {
   "cell_type": "markdown",
   "id": "83fe2e09",
   "metadata": {},
   "source": [
    "The middle-aged patients show a little improvement on the number of patients who missed their appointments.\n",
    "About 19.8% of the middle-aged group and missed their appointments while 80.2% made it to the appointment."
   ]
  },
  {
   "cell_type": "code",
   "execution_count": 29,
   "id": "21a832a7",
   "metadata": {
    "scrolled": true
   },
   "outputs": [
    {
     "data": {
      "image/png": "[encoded data removed]",
      "text/plain": [
       "<Figure size 360x360 with 1 Axes>"
      ]
     },
     "metadata": {},
     "output_type": "display_data"
    }
   ],
   "source": [
    "Pie_plot(old, 'Missed Appointments by Middle-Aged Patients')"
   ]
  },
  {
   "cell_type": "markdown",
   "id": "e6140d1d",
   "metadata": {},
   "source": [
    "About 15.3% of the elderly patients missed their medical appointment while a higher peprcentage of 84.7% did make it to the medical appointment. By this, the elderly patients category show a better response to medical appointments. Although this might not be entirely true as their might be other factors that favour their ability to make it to the appoinments which our data was not able to capture. This could be procimity to hospitals or even personal relationships with the physicians built over time could have prompted that."
   ]
  },
  {
   "cell_type": "markdown",
   "id": "1cdc2eb7",
   "metadata": {},
   "source": [
    "# Research Question 2: Are patients who did not receive  SMS more likely to miss appointments?"
   ]
  },
  {
   "cell_type": "code",
   "execution_count": 30,
   "id": "5c1e7224",
   "metadata": {},
   "outputs": [
    {
     "data": {
      "image/png": "[encoded data removed]",
      "text/plain": [
       "<Figure size 360x360 with 1 Axes>"
      ]
     },
     "metadata": {},
     "output_type": "display_data"
    }
   ],
   "source": [
    "df['SMS_received'].value_counts().plot(kind='pie', autopct='%1.1f%%', title='Distribution of patients based on SMS received on not', figsize=[5,5]);"
   ]
  },
  {
   "cell_type": "markdown",
   "id": "0810da27",
   "metadata": {},
   "source": [
    "From here, we know that only 32% of patients received SMS reminders while the reminder of 67.9% do not. "
   ]
  },
  {
   "cell_type": "code",
   "execution_count": 31,
   "id": "370dff33",
   "metadata": {},
   "outputs": [
    {
     "data": {
      "image/png": "[encoded data removed]",
      "text/plain": [
       "<Figure size 432x288 with 1 Axes>"
      ]
     },
     "metadata": {},
     "output_type": "display_data"
    }
   ],
   "source": [
    "#Let us categoried the patients into two based on those who have received SMS and those who have not so we can relate that to the appointment (No_show). Where yes_SMS means they have received reminders and no_SMS means they never got SMS reminders \n",
    "\n",
    "yes_SMS = df.query('SMS_received == 1')\n",
    "sorted_counts = yes_SMS['No_show'].value_counts()\n",
    "plt.pie(sorted_counts,autopct='%1.1f%%',  labels = sorted_counts.index, startangle = 90,\n",
    "        counterclock = False);\n",
    "plt.axis('square');\n",
    "plt.title('Proportion of patients that received the SMS and are absent');"
   ]
  },
  {
   "cell_type": "markdown",
   "id": "b8e21e1c",
   "metadata": {},
   "source": [
    "Here we can observe that 27.6 % of patients that received the SMS did not show up for medical appointment while 72.4% of patients that received the SMS showed up for the medical appointments."
   ]
  },
  {
   "cell_type": "code",
   "execution_count": 32,
   "id": "ca18fa75",
   "metadata": {},
   "outputs": [
    {
     "data": {
      "image/png": "[encoded data removed]",
      "text/plain": [
       "<Figure size 432x288 with 1 Axes>"
      ]
     },
     "metadata": {},
     "output_type": "display_data"
    }
   ],
   "source": [
    "#For patients that did not receive SMS and are absent\n",
    "no_SMS = df.query('SMS_received == 0')\n",
    "sorted_counts = no_SMS['No_show'].value_counts()\n",
    "plt.pie(sorted_counts,autopct='%1.1f%%', labels = sorted_counts.index, startangle = 90,\n",
    "        counterclock = False);\n",
    "plt.axis('square');\n",
    "plt.title('Proportion of patients that did not received the SMS and are absent');"
   ]
  },
  {
   "cell_type": "raw",
   "id": "20529e23",
   "metadata": {},
   "source": [
    "Suprisingly, a fewer percentage of patients who do not receice SMS (16.7%) missed their appointments while 83.3% made it to the appointment. Could this mean that people who did not receive reminders are likely to not miss their appointments? From the two chats above, yes. Howerever, based on this alone we cannot make a conclusion. Other variables not identified here might give better insights."
   ]
  },
  {
   "cell_type": "markdown",
   "id": "ab2df30c",
   "metadata": {},
   "source": [
    "# Research Question 3 : Are people who received the Scholarship more likely to attend their medical appointments?"
   ]
  },
  {
   "cell_type": "code",
   "execution_count": 33,
   "id": "bf4b8ad8",
   "metadata": {},
   "outputs": [
    {
     "data": {
      "image/png": "[encoded data removed]",
      "text/plain": [
       "<Figure size 360x360 with 1 Axes>"
      ]
     },
     "metadata": {},
     "output_type": "display_data"
    }
   ],
   "source": [
    "#Let's plot a chat of distribution of patients receinving scholarship\n",
    "\n",
    "df['Scholarship'].value_counts().plot(kind='pie', autopct='%1.1f%%', title='Distribution of patients receiving Scholarship', figsize=[5,5]);"
   ]
  },
  {
   "cell_type": "markdown",
   "id": "105dc2b6",
   "metadata": {},
   "source": [
    "Only about 9.8% of patients received Scholarship while 90.2% did not received. Let's us now find out of receiving scholarship contributes to them not missing their appointments."
   ]
  },
  {
   "cell_type": "code",
   "execution_count": 34,
   "id": "3042ef16",
   "metadata": {},
   "outputs": [
    {
     "data": {
      "image/png": "[encoded data removed]",
      "text/plain": [
       "<Figure size 432x288 with 1 Axes>"
      ]
     },
     "metadata": {},
     "output_type": "display_data"
    }
   ],
   "source": [
    "#Lets see the percentage of patients that recived scholarship and still could not make it to their appointments. yes_Scholarship means they received scholarship\n",
    "\n",
    "yes_Scholarship = df.query('Scholarship == 1')\n",
    "sorted_counts = yes_Scholarship['No_show'].value_counts()\n",
    "plt.pie(sorted_counts,autopct='%1.1f%%', labels = sorted_counts.index, startangle = 90,\n",
    "        counterclock = False)\n",
    "plt.axis('square');\n",
    "plt.title('Proportion of patients that received scholarship and are absent');"
   ]
  },
  {
   "cell_type": "markdown",
   "id": "004e1d5f",
   "metadata": {},
   "source": [
    "On observation, 76.3% of patients are present when they have received Scholarship while 23.7% of patients are absent."
   ]
  },
  {
   "cell_type": "code",
   "execution_count": 35,
   "id": "8e15a4d9",
   "metadata": {},
   "outputs": [
    {
     "data": {
      "image/png": "[encoded data removed]",
      "text/plain": [
       "<Figure size 432x288 with 1 Axes>"
      ]
     },
     "metadata": {},
     "output_type": "display_data"
    }
   ],
   "source": [
    "#Lets see the percentage of patients that did not recived scholarship and did not make it to their appointments. no_Scholarship means they did not received scholarship\n",
    "\n",
    "no_Scholarship = df.query('Scholarship == 0')\n",
    "sorted_counts = no_Scholarship['No_show'].value_counts()\n",
    "plt.pie(sorted_counts,autopct='%1.1f%%', labels = sorted_counts.index, startangle = 90,\n",
    "        counterclock = False);\n",
    "plt.axis('square');\n",
    "plt.title('Proportion of patients that did not received scholarship who are absent.');"
   ]
  },
  {
   "cell_type": "markdown",
   "id": "63edeaf3",
   "metadata": {},
   "source": [
    "On observation, 80% of patients who did not receive scholarship did not miss their appointment. A 19.8% of those who did not receive scholarship are absent."
   ]
  },
  {
   "cell_type": "markdown",
   "id": "bb7fdb11",
   "metadata": {},
   "source": [
    "# Conclusion\n",
    "Here we have done exploratory analysis using statitistics , charts and graphs to investigate the questions that we presented. We have discovered various findings that are suprising while some are expected that would navigate us towards a better decision of practical implications."
   ]
  },
  {
   "cell_type": "markdown",
   "id": "5807f17d",
   "metadata": {},
   "source": [
    "# Reseach Question 1 : How does the age distribution relate to medical appointments scheduled?\n",
    "We categorised the patiets by age into three groups. The majority of patients are young (under 30) or middle-aged (between 30 and 60) while the elderly make up 60 and above as the histogram illustrated. \n",
    "\n",
    "The elderly patients over 60 were least likely to miss appointments (15.3%), and middle-aged people were in between (19.8%) with the young patients having a higher likelihood of missing their appointments (22.9%). \n",
    "\n",
    "By this, the elderly patients category show a better response to medical appointments. Although this might not be entirely true as their might be other factors that favour their ability to make it to the appoinments which our data was not able to capture. This could be procimity to hospitals or even personal relationships with the physicians built over time could have prompted that.\n"
   ]
  },
  {
   "cell_type": "markdown",
   "id": "d10c6594",
   "metadata": {},
   "source": [
    "# Research Question 2: Are patients who did not receive SMS more likely to miss appointments?\n",
    "\n",
    "Suprisingly, we observed that patients who did not received SMS have a higher percentage of patients that attend the medical appointments with 83.3% than patients that received SMS with 72.4%. Could this mean that people who did not receive reminders are likely to not miss their appointments? From our analysis,  above, yes. Maybe if we get more variables, we will need to know whether the receipt of SMS reminders has in a way affected the patients' likelihood in missing their appointments. \n"
   ]
  },
  {
   "cell_type": "markdown",
   "id": "6876364b",
   "metadata": {},
   "source": [
    "# Research Question 3 : Are people who received the Scholarship more likely to attend the appointment?\n",
    "\n",
    "The patients who did not receive scholaship have a higher percentage of patients that attend the medical appointments with 80.2% than patients that received scholaship with 76.3%. This will imply that given scholarhsip has little to contribute in making patients not to miss their appointments.\n"
   ]
  },
  {
   "cell_type": "markdown",
   "id": "f99b7dd5",
   "metadata": {},
   "source": [
    "# Further Research\n",
    "\n",
    "Other things we can explore from our dataset are;\n",
    "\n",
    "Consider the gap between when appointment are made and the scheduled time, does a larger gap increase the likelihood of missing appointments?\n",
    "\n",
    "We can look at whether certain gender increases the chance of patients to miss the medical appointment?\n",
    "\n",
    "We need more information on 'scholarship', how does it affect patients likelihood of missing appontment?\n",
    "\n",
    "We can also look at patients with multiple diseases. Does that increasees their chance of missing the medical appointment?\n",
    "\n"
   ]
  }
 ],
 "metadata": {
  "kernelspec": {
   "display_name": "Python 3 (ipykernel)",
   "language": "python",
   "name": "python3"
  },
  "language_info": {
   "codemirror_mode": {
    "name": "ipython",
    "version": 3
   },
   "file_extension": ".py",
   "mimetype": "text/x-python",
   "name": "python",
   "nbconvert_exporter": "python",
   "pygments_lexer": "ipython3",
   "version": "3.9.7"
  }
 },
 "nbformat": 4,
 "nbformat_minor": 5
}
